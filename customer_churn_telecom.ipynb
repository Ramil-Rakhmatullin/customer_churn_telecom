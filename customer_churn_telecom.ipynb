{
  "cells": [
    {
      "cell_type": "markdown",
      "metadata": {
        "id": "x0-ae3nXUOBY"
      },
      "source": [
        "## Подготовка данных"
      ],
      "id": "x0-ae3nXUOBY"
    },
    {
      "cell_type": "code",
      "execution_count": null,
      "metadata": {
        "id": "Q3DqNh19UOBZ"
      },
      "outputs": [],
      "source": [
        "import pandas as pd\n",
        "import numpy as np\n",
        "import matplotlib.pyplot as plt\n",
        "import seaborn as sns\n",
        "from sklearn.model_selection import train_test_split\n",
        "from sklearn.utils import shuffle\n",
        "from catboost import CatBoostClassifier\n",
        "from sklearn.model_selection import GridSearchCV\n",
        "from sklearn.model_selection import cross_val_score\n",
        "from sklearn.metrics import roc_auc_score, roc_curve, classification_report\n",
        "from sklearn.preprocessing import StandardScaler"
      ],
      "id": "Q3DqNh19UOBZ"
    },
    {
      "cell_type": "code",
      "execution_count": null,
      "metadata": {
        "id": "jgs_qwqxUOBa"
      },
      "outputs": [],
      "source": [
        "df_contract = pd.read_csv('C:/Users/rakhm/Desktop/Яндекс.Практикум/Выпускной проект/final_provider/contract.csv')"
      ],
      "id": "jgs_qwqxUOBa"
    },
    {
      "cell_type": "code",
      "execution_count": null,
      "metadata": {
        "id": "P4Gsro3kUOBb"
      },
      "outputs": [],
      "source": [
        "df_internet = pd.read_csv('C:/Users/rakhm/Desktop/Яндекс.Практикум/Выпускной проект/final_provider/internet.csv')"
      ],
      "id": "P4Gsro3kUOBb"
    },
    {
      "cell_type": "code",
      "execution_count": null,
      "metadata": {
        "id": "WVAQ5eeRUOBc"
      },
      "outputs": [],
      "source": [
        "df_personal = pd.read_csv('C:/Users/rakhm/Desktop/Яндекс.Практикум/Выпускной проект/final_provider/personal.csv')"
      ],
      "id": "WVAQ5eeRUOBc"
    },
    {
      "cell_type": "code",
      "execution_count": null,
      "metadata": {
        "id": "--abT8ScUOBc"
      },
      "outputs": [],
      "source": [
        "df_phone = pd.read_csv('C:/Users/rakhm/Desktop/Яндекс.Практикум/Выпускной проект/final_provider/phone.csv')"
      ],
      "id": "--abT8ScUOBc"
    },
    {
      "cell_type": "code",
      "execution_count": null,
      "metadata": {
        "id": "49IenBb3UOBd"
      },
      "outputs": [],
      "source": [
        "df_contract = pd.read_csv('/datasets/final_provider/contract.csv')\n",
        "df_internet = pd.read_csv('/datasets/final_provider/internet.csv')\n",
        "df_personal = pd.read_csv('/datasets/final_provider/personal.csv')\n",
        "df_phone = pd.read_csv('/datasets/final_provider/phone.csv')\n"
      ],
      "id": "49IenBb3UOBd"
    },
    {
      "cell_type": "code",
      "execution_count": null,
      "metadata": {
        "id": "aluw-Ol2UOBd",
        "outputId": "4279c83f-0a85-4d89-8b2c-ba29e5e16b79"
      },
      "outputs": [
        {
          "data": {
            "text/html": [
              "<div>\n",
              "<style scoped>\n",
              "    .dataframe tbody tr th:only-of-type {\n",
              "        vertical-align: middle;\n",
              "    }\n",
              "\n",
              "    .dataframe tbody tr th {\n",
              "        vertical-align: top;\n",
              "    }\n",
              "\n",
              "    .dataframe thead th {\n",
              "        text-align: right;\n",
              "    }\n",
              "</style>\n",
              "<table border=\"1\" class=\"dataframe\">\n",
              "  <thead>\n",
              "    <tr style=\"text-align: right;\">\n",
              "      <th></th>\n",
              "      <th>customerID</th>\n",
              "      <th>BeginDate</th>\n",
              "      <th>EndDate</th>\n",
              "      <th>Type</th>\n",
              "      <th>PaperlessBilling</th>\n",
              "      <th>PaymentMethod</th>\n",
              "      <th>MonthlyCharges</th>\n",
              "      <th>TotalCharges</th>\n",
              "    </tr>\n",
              "  </thead>\n",
              "  <tbody>\n",
              "    <tr>\n",
              "      <td>0</td>\n",
              "      <td>7590-VHVEG</td>\n",
              "      <td>2020-01-01</td>\n",
              "      <td>No</td>\n",
              "      <td>Month-to-month</td>\n",
              "      <td>Yes</td>\n",
              "      <td>Electronic check</td>\n",
              "      <td>29.85</td>\n",
              "      <td>29.85</td>\n",
              "    </tr>\n",
              "    <tr>\n",
              "      <td>1</td>\n",
              "      <td>5575-GNVDE</td>\n",
              "      <td>2017-04-01</td>\n",
              "      <td>No</td>\n",
              "      <td>One year</td>\n",
              "      <td>No</td>\n",
              "      <td>Mailed check</td>\n",
              "      <td>56.95</td>\n",
              "      <td>1889.5</td>\n",
              "    </tr>\n",
              "    <tr>\n",
              "      <td>2</td>\n",
              "      <td>3668-QPYBK</td>\n",
              "      <td>2019-10-01</td>\n",
              "      <td>2019-12-01 00:00:00</td>\n",
              "      <td>Month-to-month</td>\n",
              "      <td>Yes</td>\n",
              "      <td>Mailed check</td>\n",
              "      <td>53.85</td>\n",
              "      <td>108.15</td>\n",
              "    </tr>\n",
              "    <tr>\n",
              "      <td>3</td>\n",
              "      <td>7795-CFOCW</td>\n",
              "      <td>2016-05-01</td>\n",
              "      <td>No</td>\n",
              "      <td>One year</td>\n",
              "      <td>No</td>\n",
              "      <td>Bank transfer (automatic)</td>\n",
              "      <td>42.30</td>\n",
              "      <td>1840.75</td>\n",
              "    </tr>\n",
              "    <tr>\n",
              "      <td>4</td>\n",
              "      <td>9237-HQITU</td>\n",
              "      <td>2019-09-01</td>\n",
              "      <td>2019-11-01 00:00:00</td>\n",
              "      <td>Month-to-month</td>\n",
              "      <td>Yes</td>\n",
              "      <td>Electronic check</td>\n",
              "      <td>70.70</td>\n",
              "      <td>151.65</td>\n",
              "    </tr>\n",
              "  </tbody>\n",
              "</table>\n",
              "</div>"
            ],
            "text/plain": [
              "   customerID   BeginDate              EndDate            Type  \\\n",
              "0  7590-VHVEG  2020-01-01                   No  Month-to-month   \n",
              "1  5575-GNVDE  2017-04-01                   No        One year   \n",
              "2  3668-QPYBK  2019-10-01  2019-12-01 00:00:00  Month-to-month   \n",
              "3  7795-CFOCW  2016-05-01                   No        One year   \n",
              "4  9237-HQITU  2019-09-01  2019-11-01 00:00:00  Month-to-month   \n",
              "\n",
              "  PaperlessBilling              PaymentMethod  MonthlyCharges TotalCharges  \n",
              "0              Yes           Electronic check           29.85        29.85  \n",
              "1               No               Mailed check           56.95       1889.5  \n",
              "2              Yes               Mailed check           53.85       108.15  \n",
              "3               No  Bank transfer (automatic)           42.30      1840.75  \n",
              "4              Yes           Electronic check           70.70       151.65  "
            ]
          },
          "execution_count": 4,
          "metadata": {},
          "output_type": "execute_result"
        }
      ],
      "source": [
        "df_contract.head()"
      ],
      "id": "aluw-Ol2UOBd"
    },
    {
      "cell_type": "code",
      "execution_count": null,
      "metadata": {
        "id": "Yyv8kMPWUOBe",
        "outputId": "39a9852c-1395-45c0-a97c-c2b85816c31c"
      },
      "outputs": [
        {
          "data": {
            "text/html": [
              "<div>\n",
              "<style scoped>\n",
              "    .dataframe tbody tr th:only-of-type {\n",
              "        vertical-align: middle;\n",
              "    }\n",
              "\n",
              "    .dataframe tbody tr th {\n",
              "        vertical-align: top;\n",
              "    }\n",
              "\n",
              "    .dataframe thead th {\n",
              "        text-align: right;\n",
              "    }\n",
              "</style>\n",
              "<table border=\"1\" class=\"dataframe\">\n",
              "  <thead>\n",
              "    <tr style=\"text-align: right;\">\n",
              "      <th></th>\n",
              "      <th>customerID</th>\n",
              "      <th>InternetService</th>\n",
              "      <th>OnlineSecurity</th>\n",
              "      <th>OnlineBackup</th>\n",
              "      <th>DeviceProtection</th>\n",
              "      <th>TechSupport</th>\n",
              "      <th>StreamingTV</th>\n",
              "      <th>StreamingMovies</th>\n",
              "    </tr>\n",
              "  </thead>\n",
              "  <tbody>\n",
              "    <tr>\n",
              "      <td>0</td>\n",
              "      <td>7590-VHVEG</td>\n",
              "      <td>DSL</td>\n",
              "      <td>No</td>\n",
              "      <td>Yes</td>\n",
              "      <td>No</td>\n",
              "      <td>No</td>\n",
              "      <td>No</td>\n",
              "      <td>No</td>\n",
              "    </tr>\n",
              "    <tr>\n",
              "      <td>1</td>\n",
              "      <td>5575-GNVDE</td>\n",
              "      <td>DSL</td>\n",
              "      <td>Yes</td>\n",
              "      <td>No</td>\n",
              "      <td>Yes</td>\n",
              "      <td>No</td>\n",
              "      <td>No</td>\n",
              "      <td>No</td>\n",
              "    </tr>\n",
              "    <tr>\n",
              "      <td>2</td>\n",
              "      <td>3668-QPYBK</td>\n",
              "      <td>DSL</td>\n",
              "      <td>Yes</td>\n",
              "      <td>Yes</td>\n",
              "      <td>No</td>\n",
              "      <td>No</td>\n",
              "      <td>No</td>\n",
              "      <td>No</td>\n",
              "    </tr>\n",
              "    <tr>\n",
              "      <td>3</td>\n",
              "      <td>7795-CFOCW</td>\n",
              "      <td>DSL</td>\n",
              "      <td>Yes</td>\n",
              "      <td>No</td>\n",
              "      <td>Yes</td>\n",
              "      <td>Yes</td>\n",
              "      <td>No</td>\n",
              "      <td>No</td>\n",
              "    </tr>\n",
              "    <tr>\n",
              "      <td>4</td>\n",
              "      <td>9237-HQITU</td>\n",
              "      <td>Fiber optic</td>\n",
              "      <td>No</td>\n",
              "      <td>No</td>\n",
              "      <td>No</td>\n",
              "      <td>No</td>\n",
              "      <td>No</td>\n",
              "      <td>No</td>\n",
              "    </tr>\n",
              "  </tbody>\n",
              "</table>\n",
              "</div>"
            ],
            "text/plain": [
              "   customerID InternetService OnlineSecurity OnlineBackup DeviceProtection  \\\n",
              "0  7590-VHVEG             DSL             No          Yes               No   \n",
              "1  5575-GNVDE             DSL            Yes           No              Yes   \n",
              "2  3668-QPYBK             DSL            Yes          Yes               No   \n",
              "3  7795-CFOCW             DSL            Yes           No              Yes   \n",
              "4  9237-HQITU     Fiber optic             No           No               No   \n",
              "\n",
              "  TechSupport StreamingTV StreamingMovies  \n",
              "0          No          No              No  \n",
              "1          No          No              No  \n",
              "2          No          No              No  \n",
              "3         Yes          No              No  \n",
              "4          No          No              No  "
            ]
          },
          "execution_count": 5,
          "metadata": {},
          "output_type": "execute_result"
        }
      ],
      "source": [
        "df_internet.head()"
      ],
      "id": "Yyv8kMPWUOBe"
    },
    {
      "cell_type": "code",
      "execution_count": null,
      "metadata": {
        "id": "Dc7VrEuqUOBe",
        "outputId": "693273f6-c319-4b9b-cba3-b23530926e4e"
      },
      "outputs": [
        {
          "data": {
            "text/html": [
              "<div>\n",
              "<style scoped>\n",
              "    .dataframe tbody tr th:only-of-type {\n",
              "        vertical-align: middle;\n",
              "    }\n",
              "\n",
              "    .dataframe tbody tr th {\n",
              "        vertical-align: top;\n",
              "    }\n",
              "\n",
              "    .dataframe thead th {\n",
              "        text-align: right;\n",
              "    }\n",
              "</style>\n",
              "<table border=\"1\" class=\"dataframe\">\n",
              "  <thead>\n",
              "    <tr style=\"text-align: right;\">\n",
              "      <th></th>\n",
              "      <th>customerID</th>\n",
              "      <th>gender</th>\n",
              "      <th>SeniorCitizen</th>\n",
              "      <th>Partner</th>\n",
              "      <th>Dependents</th>\n",
              "    </tr>\n",
              "  </thead>\n",
              "  <tbody>\n",
              "    <tr>\n",
              "      <td>0</td>\n",
              "      <td>7590-VHVEG</td>\n",
              "      <td>Female</td>\n",
              "      <td>0</td>\n",
              "      <td>Yes</td>\n",
              "      <td>No</td>\n",
              "    </tr>\n",
              "    <tr>\n",
              "      <td>1</td>\n",
              "      <td>5575-GNVDE</td>\n",
              "      <td>Male</td>\n",
              "      <td>0</td>\n",
              "      <td>No</td>\n",
              "      <td>No</td>\n",
              "    </tr>\n",
              "    <tr>\n",
              "      <td>2</td>\n",
              "      <td>3668-QPYBK</td>\n",
              "      <td>Male</td>\n",
              "      <td>0</td>\n",
              "      <td>No</td>\n",
              "      <td>No</td>\n",
              "    </tr>\n",
              "    <tr>\n",
              "      <td>3</td>\n",
              "      <td>7795-CFOCW</td>\n",
              "      <td>Male</td>\n",
              "      <td>0</td>\n",
              "      <td>No</td>\n",
              "      <td>No</td>\n",
              "    </tr>\n",
              "    <tr>\n",
              "      <td>4</td>\n",
              "      <td>9237-HQITU</td>\n",
              "      <td>Female</td>\n",
              "      <td>0</td>\n",
              "      <td>No</td>\n",
              "      <td>No</td>\n",
              "    </tr>\n",
              "  </tbody>\n",
              "</table>\n",
              "</div>"
            ],
            "text/plain": [
              "   customerID  gender  SeniorCitizen Partner Dependents\n",
              "0  7590-VHVEG  Female              0     Yes         No\n",
              "1  5575-GNVDE    Male              0      No         No\n",
              "2  3668-QPYBK    Male              0      No         No\n",
              "3  7795-CFOCW    Male              0      No         No\n",
              "4  9237-HQITU  Female              0      No         No"
            ]
          },
          "execution_count": 6,
          "metadata": {},
          "output_type": "execute_result"
        }
      ],
      "source": [
        "df_personal.head()"
      ],
      "id": "Dc7VrEuqUOBe"
    },
    {
      "cell_type": "code",
      "execution_count": null,
      "metadata": {
        "id": "SiGTJ9tJUOBf",
        "outputId": "dad2b06a-fde3-490d-8beb-0421bce04ef8"
      },
      "outputs": [
        {
          "data": {
            "text/html": [
              "<div>\n",
              "<style scoped>\n",
              "    .dataframe tbody tr th:only-of-type {\n",
              "        vertical-align: middle;\n",
              "    }\n",
              "\n",
              "    .dataframe tbody tr th {\n",
              "        vertical-align: top;\n",
              "    }\n",
              "\n",
              "    .dataframe thead th {\n",
              "        text-align: right;\n",
              "    }\n",
              "</style>\n",
              "<table border=\"1\" class=\"dataframe\">\n",
              "  <thead>\n",
              "    <tr style=\"text-align: right;\">\n",
              "      <th></th>\n",
              "      <th>customerID</th>\n",
              "      <th>MultipleLines</th>\n",
              "    </tr>\n",
              "  </thead>\n",
              "  <tbody>\n",
              "    <tr>\n",
              "      <td>0</td>\n",
              "      <td>5575-GNVDE</td>\n",
              "      <td>No</td>\n",
              "    </tr>\n",
              "    <tr>\n",
              "      <td>1</td>\n",
              "      <td>3668-QPYBK</td>\n",
              "      <td>No</td>\n",
              "    </tr>\n",
              "    <tr>\n",
              "      <td>2</td>\n",
              "      <td>9237-HQITU</td>\n",
              "      <td>No</td>\n",
              "    </tr>\n",
              "    <tr>\n",
              "      <td>3</td>\n",
              "      <td>9305-CDSKC</td>\n",
              "      <td>Yes</td>\n",
              "    </tr>\n",
              "    <tr>\n",
              "      <td>4</td>\n",
              "      <td>1452-KIOVK</td>\n",
              "      <td>Yes</td>\n",
              "    </tr>\n",
              "  </tbody>\n",
              "</table>\n",
              "</div>"
            ],
            "text/plain": [
              "   customerID MultipleLines\n",
              "0  5575-GNVDE            No\n",
              "1  3668-QPYBK            No\n",
              "2  9237-HQITU            No\n",
              "3  9305-CDSKC           Yes\n",
              "4  1452-KIOVK           Yes"
            ]
          },
          "execution_count": 7,
          "metadata": {},
          "output_type": "execute_result"
        }
      ],
      "source": [
        "df_phone.head()"
      ],
      "id": "SiGTJ9tJUOBf"
    },
    {
      "cell_type": "code",
      "execution_count": null,
      "metadata": {
        "id": "gjPFBbxXUOBf",
        "outputId": "24700615-50d6-4f4f-ef38-3ab42cb4d46b"
      },
      "outputs": [
        {
          "name": "stdout",
          "output_type": "stream",
          "text": [
            "<class 'pandas.core.frame.DataFrame'>\n",
            "RangeIndex: 7043 entries, 0 to 7042\n",
            "Data columns (total 8 columns):\n",
            "customerID          7043 non-null object\n",
            "BeginDate           7043 non-null object\n",
            "EndDate             7043 non-null object\n",
            "Type                7043 non-null object\n",
            "PaperlessBilling    7043 non-null object\n",
            "PaymentMethod       7043 non-null object\n",
            "MonthlyCharges      7043 non-null float64\n",
            "TotalCharges        7043 non-null object\n",
            "dtypes: float64(1), object(7)\n",
            "memory usage: 440.3+ KB\n"
          ]
        }
      ],
      "source": [
        "df_contract.info()"
      ],
      "id": "gjPFBbxXUOBf"
    },
    {
      "cell_type": "code",
      "execution_count": null,
      "metadata": {
        "id": "Uf_yMUfAUOBf",
        "outputId": "47755cae-95d2-4b57-be60-03648ba6b338"
      },
      "outputs": [
        {
          "data": {
            "text/plain": [
              "customerID          0.0\n",
              "BeginDate           0.0\n",
              "EndDate             0.0\n",
              "Type                0.0\n",
              "PaperlessBilling    0.0\n",
              "PaymentMethod       0.0\n",
              "MonthlyCharges      0.0\n",
              "TotalCharges        0.0\n",
              "dtype: float64"
            ]
          },
          "execution_count": 9,
          "metadata": {},
          "output_type": "execute_result"
        }
      ],
      "source": [
        "df_contract.isna().mean()"
      ],
      "id": "Uf_yMUfAUOBf"
    },
    {
      "cell_type": "code",
      "execution_count": null,
      "metadata": {
        "id": "rdAqrKEVUOBg",
        "outputId": "73bfd36f-575c-4fcd-b592-fdeb1b0066db"
      },
      "outputs": [
        {
          "name": "stdout",
          "output_type": "stream",
          "text": [
            "<class 'pandas.core.frame.DataFrame'>\n",
            "RangeIndex: 5517 entries, 0 to 5516\n",
            "Data columns (total 8 columns):\n",
            "customerID          5517 non-null object\n",
            "InternetService     5517 non-null object\n",
            "OnlineSecurity      5517 non-null object\n",
            "OnlineBackup        5517 non-null object\n",
            "DeviceProtection    5517 non-null object\n",
            "TechSupport         5517 non-null object\n",
            "StreamingTV         5517 non-null object\n",
            "StreamingMovies     5517 non-null object\n",
            "dtypes: object(8)\n",
            "memory usage: 344.9+ KB\n"
          ]
        }
      ],
      "source": [
        "df_internet.info()"
      ],
      "id": "rdAqrKEVUOBg"
    },
    {
      "cell_type": "code",
      "execution_count": null,
      "metadata": {
        "id": "mBI2aI1OUOBg",
        "outputId": "fecc9eec-5d20-4f4f-fce7-fd63f81ca1c6"
      },
      "outputs": [
        {
          "data": {
            "text/plain": [
              "customerID          0.0\n",
              "InternetService     0.0\n",
              "OnlineSecurity      0.0\n",
              "OnlineBackup        0.0\n",
              "DeviceProtection    0.0\n",
              "TechSupport         0.0\n",
              "StreamingTV         0.0\n",
              "StreamingMovies     0.0\n",
              "dtype: float64"
            ]
          },
          "execution_count": 11,
          "metadata": {},
          "output_type": "execute_result"
        }
      ],
      "source": [
        "df_internet.isna().mean()"
      ],
      "id": "mBI2aI1OUOBg"
    },
    {
      "cell_type": "code",
      "execution_count": null,
      "metadata": {
        "id": "2miD-7DbUOBg",
        "outputId": "e19593a2-0ae1-4eb1-fa5d-c56c358671af"
      },
      "outputs": [
        {
          "name": "stdout",
          "output_type": "stream",
          "text": [
            "<class 'pandas.core.frame.DataFrame'>\n",
            "RangeIndex: 7043 entries, 0 to 7042\n",
            "Data columns (total 5 columns):\n",
            "customerID       7043 non-null object\n",
            "gender           7043 non-null object\n",
            "SeniorCitizen    7043 non-null int64\n",
            "Partner          7043 non-null object\n",
            "Dependents       7043 non-null object\n",
            "dtypes: int64(1), object(4)\n",
            "memory usage: 275.2+ KB\n"
          ]
        }
      ],
      "source": [
        "df_personal.info()"
      ],
      "id": "2miD-7DbUOBg"
    },
    {
      "cell_type": "code",
      "execution_count": null,
      "metadata": {
        "id": "LQ5CerVIUOBh",
        "outputId": "bfe286a6-7dd6-400c-ee4c-1ec6e7aa3364"
      },
      "outputs": [
        {
          "data": {
            "text/plain": [
              "customerID       0.0\n",
              "gender           0.0\n",
              "SeniorCitizen    0.0\n",
              "Partner          0.0\n",
              "Dependents       0.0\n",
              "dtype: float64"
            ]
          },
          "execution_count": 13,
          "metadata": {},
          "output_type": "execute_result"
        }
      ],
      "source": [
        "df_personal.isna().mean()"
      ],
      "id": "LQ5CerVIUOBh"
    },
    {
      "cell_type": "code",
      "execution_count": null,
      "metadata": {
        "id": "JcW7we2XUOBh",
        "outputId": "da782557-d583-46dc-ac21-46fee75b51bf"
      },
      "outputs": [
        {
          "name": "stdout",
          "output_type": "stream",
          "text": [
            "<class 'pandas.core.frame.DataFrame'>\n",
            "RangeIndex: 6361 entries, 0 to 6360\n",
            "Data columns (total 2 columns):\n",
            "customerID       6361 non-null object\n",
            "MultipleLines    6361 non-null object\n",
            "dtypes: object(2)\n",
            "memory usage: 99.5+ KB\n"
          ]
        }
      ],
      "source": [
        "df_phone.info()"
      ],
      "id": "JcW7we2XUOBh"
    },
    {
      "cell_type": "code",
      "execution_count": null,
      "metadata": {
        "id": "qEa-csKyUOBh",
        "outputId": "32703c72-a05c-421c-df71-35bb0b4f3f18"
      },
      "outputs": [
        {
          "data": {
            "text/plain": [
              "customerID       0.0\n",
              "MultipleLines    0.0\n",
              "dtype: float64"
            ]
          },
          "execution_count": 15,
          "metadata": {},
          "output_type": "execute_result"
        }
      ],
      "source": [
        "df_phone.isna().mean()"
      ],
      "id": "qEa-csKyUOBh"
    },
    {
      "cell_type": "markdown",
      "metadata": {
        "id": "gfItV7ceUOBi"
      },
      "source": [
        "Выделим целевой признак. Те, у кого в признаке \"EndDate\" стоит значение No, продолжают пользоваться тарифом."
      ],
      "id": "gfItV7ceUOBi"
    },
    {
      "cell_type": "code",
      "execution_count": null,
      "metadata": {
        "id": "9Mb4BgnkUOBi"
      },
      "outputs": [],
      "source": [
        "def target(row):\n",
        "    \n",
        "    live_time = row['EndDate']\n",
        "    \n",
        "    if live_time == 'No':\n",
        "        return 0\n",
        "    else:\n",
        "        return 1\n",
        "\n",
        "df_contract['target'] = df_contract.apply(target, axis=1)"
      ],
      "id": "9Mb4BgnkUOBi"
    },
    {
      "cell_type": "markdown",
      "metadata": {
        "id": "lyVOLDkrUOBi"
      },
      "source": [
        "Поменяем тип данных в столбце TotalCharges. После его смены остлись пустые значения - удалим их"
      ],
      "id": "lyVOLDkrUOBi"
    },
    {
      "cell_type": "code",
      "execution_count": null,
      "metadata": {
        "id": "Q0HE4KEcUOBj"
      },
      "outputs": [],
      "source": [
        "df_contract['TotalCharges'] = pd.to_numeric(df_contract['TotalCharges'], errors='coerce')"
      ],
      "id": "Q0HE4KEcUOBj"
    },
    {
      "cell_type": "code",
      "execution_count": null,
      "metadata": {
        "id": "rD7__8ijUOBj"
      },
      "outputs": [],
      "source": [
        "df_contract.dropna(subset = ['TotalCharges'], inplace = True)"
      ],
      "id": "rD7__8ijUOBj"
    },
    {
      "cell_type": "markdown",
      "metadata": {
        "id": "ZF8y-y5jUOBl"
      },
      "source": [
        "Также поменяю тип данных в столбцах времени BeginDate и EndDate. В последствии хочу увидеть сколько времени ушедшие клиенты пользовались услугами"
      ],
      "id": "ZF8y-y5jUOBl"
    },
    {
      "cell_type": "code",
      "execution_count": null,
      "metadata": {
        "id": "i6qWcISRUOBl"
      },
      "outputs": [],
      "source": [
        "df_contract['BeginDate'] = pd.to_datetime(df_contract['BeginDate'],format='%Y.%m.%d')"
      ],
      "id": "i6qWcISRUOBl"
    },
    {
      "cell_type": "markdown",
      "metadata": {
        "id": "xkY11Y3HUOBl"
      },
      "source": [
        "В столбце EndDate, для клиентов, которые продолжают пользоваться услугами, нет даты - это не позволит перевести признак в нужный формат. Заменим 'No' на '2020-02-01', максимальная дата для которой есть информация по актуальным договорам. Затем я создам дополнительный признак - время жизни пользования услугами. Сделаю это до разделения выборки на трейн и тест, так как это не исказит тестовую выборку и сделать это для обеих выборок придется в любом случае."
      ],
      "id": "xkY11Y3HUOBl"
    },
    {
      "cell_type": "code",
      "execution_count": null,
      "metadata": {
        "id": "PYr9OY_pUOBl"
      },
      "outputs": [],
      "source": [
        "df_contract['EndDate'] = df_contract['EndDate'].replace('No', '2020-02-01')"
      ],
      "id": "PYr9OY_pUOBl"
    },
    {
      "cell_type": "code",
      "execution_count": null,
      "metadata": {
        "id": "2NH5pekfUOBl"
      },
      "outputs": [],
      "source": [
        "df_contract['EndDate'] = pd.to_datetime(df_contract['EndDate'],format='%Y.%m.%d')"
      ],
      "id": "2NH5pekfUOBl"
    },
    {
      "cell_type": "code",
      "execution_count": null,
      "metadata": {
        "id": "hEDCifP-UOBm"
      },
      "outputs": [],
      "source": [
        "df_contract['live_time'] = df_contract['EndDate'] - df_contract['BeginDate']"
      ],
      "id": "hEDCifP-UOBm"
    },
    {
      "cell_type": "markdown",
      "metadata": {
        "id": "uj0TNNPUUOBm"
      },
      "source": [
        "Для удобстава подсчета, приведем значения в получившемся столбце к типу int."
      ],
      "id": "uj0TNNPUUOBm"
    },
    {
      "cell_type": "code",
      "execution_count": null,
      "metadata": {
        "id": "USSkUKlJUOBm"
      },
      "outputs": [],
      "source": [
        "df_contract['live_time'] = pd.to_numeric(df_contract['live_time'].dt.days, downcast='integer')"
      ],
      "id": "USSkUKlJUOBm"
    },
    {
      "cell_type": "markdown",
      "metadata": {
        "id": "Sl-zqJ9uUOBm"
      },
      "source": [
        "## Анализ данных"
      ],
      "id": "Sl-zqJ9uUOBm"
    },
    {
      "cell_type": "markdown",
      "metadata": {
        "id": "jPDIAI5vUOBm"
      },
      "source": [
        "Соединим таблицы в одну, чтобы было удобнее работать"
      ],
      "id": "jPDIAI5vUOBm"
    },
    {
      "cell_type": "code",
      "execution_count": null,
      "metadata": {
        "id": "8kX0xne0UOBn"
      },
      "outputs": [],
      "source": [
        "df = df_contract.merge(df_internet, on='customerID', how='left')"
      ],
      "id": "8kX0xne0UOBn"
    },
    {
      "cell_type": "code",
      "execution_count": null,
      "metadata": {
        "id": "9GRM46BIUOBn"
      },
      "outputs": [],
      "source": [
        "df = df.merge(df_personal, on='customerID', how='left')"
      ],
      "id": "9GRM46BIUOBn"
    },
    {
      "cell_type": "code",
      "execution_count": null,
      "metadata": {
        "id": "A3p8fNlvUOBn"
      },
      "outputs": [],
      "source": [
        "df = df.merge(df_phone, on='customerID', how='left')"
      ],
      "id": "A3p8fNlvUOBn"
    },
    {
      "cell_type": "markdown",
      "metadata": {
        "id": "ZcvrK34fUOBn"
      },
      "source": [
        "Заменим пустые ячейки набором букв"
      ],
      "id": "ZcvrK34fUOBn"
    },
    {
      "cell_type": "code",
      "execution_count": null,
      "metadata": {
        "id": "PwboUg_kUOBn"
      },
      "outputs": [],
      "source": [
        "df = df.fillna('not')"
      ],
      "id": "PwboUg_kUOBn"
    },
    {
      "cell_type": "markdown",
      "metadata": {
        "id": "1fh6EeuLUOBn"
      },
      "source": [
        "Посмотрим как коррелируют между собой количественные признаки"
      ],
      "id": "1fh6EeuLUOBn"
    },
    {
      "cell_type": "code",
      "execution_count": null,
      "metadata": {
        "id": "n12xuhENUOBo",
        "outputId": "003e504a-a578-4e6c-f54c-e3cdafc29609"
      },
      "outputs": [
        {
          "data": {
            "text/html": [
              "<div>\n",
              "<style scoped>\n",
              "    .dataframe tbody tr th:only-of-type {\n",
              "        vertical-align: middle;\n",
              "    }\n",
              "\n",
              "    .dataframe tbody tr th {\n",
              "        vertical-align: top;\n",
              "    }\n",
              "\n",
              "    .dataframe thead th {\n",
              "        text-align: right;\n",
              "    }\n",
              "</style>\n",
              "<table border=\"1\" class=\"dataframe\">\n",
              "  <thead>\n",
              "    <tr style=\"text-align: right;\">\n",
              "      <th></th>\n",
              "      <th>MonthlyCharges</th>\n",
              "      <th>TotalCharges</th>\n",
              "      <th>live_time</th>\n",
              "      <th>SeniorCitizen</th>\n",
              "    </tr>\n",
              "  </thead>\n",
              "  <tbody>\n",
              "    <tr>\n",
              "      <td>MonthlyCharges</td>\n",
              "      <td>1.000000</td>\n",
              "      <td>0.651065</td>\n",
              "      <td>0.246715</td>\n",
              "      <td>0.219874</td>\n",
              "    </tr>\n",
              "    <tr>\n",
              "      <td>TotalCharges</td>\n",
              "      <td>0.651065</td>\n",
              "      <td>1.000000</td>\n",
              "      <td>0.825811</td>\n",
              "      <td>0.102411</td>\n",
              "    </tr>\n",
              "    <tr>\n",
              "      <td>live_time</td>\n",
              "      <td>0.246715</td>\n",
              "      <td>0.825811</td>\n",
              "      <td>1.000000</td>\n",
              "      <td>0.015630</td>\n",
              "    </tr>\n",
              "    <tr>\n",
              "      <td>SeniorCitizen</td>\n",
              "      <td>0.219874</td>\n",
              "      <td>0.102411</td>\n",
              "      <td>0.015630</td>\n",
              "      <td>1.000000</td>\n",
              "    </tr>\n",
              "  </tbody>\n",
              "</table>\n",
              "</div>"
            ],
            "text/plain": [
              "                MonthlyCharges  TotalCharges  live_time  SeniorCitizen\n",
              "MonthlyCharges        1.000000      0.651065   0.246715       0.219874\n",
              "TotalCharges          0.651065      1.000000   0.825811       0.102411\n",
              "live_time             0.246715      0.825811   1.000000       0.015630\n",
              "SeniorCitizen         0.219874      0.102411   0.015630       1.000000"
            ]
          },
          "execution_count": 28,
          "metadata": {},
          "output_type": "execute_result"
        }
      ],
      "source": [
        "df[['MonthlyCharges','TotalCharges','live_time','SeniorCitizen']].corr()"
      ],
      "id": "n12xuhENUOBo"
    },
    {
      "cell_type": "markdown",
      "metadata": {
        "id": "NzleXbyVUOBo"
      },
      "source": [
        "Определим нужные фичи и целевой признак. Удалим из фичей:\n",
        "\n",
        "- даты - они переобучат модель;\n",
        "- ID - это ненужная информация;\n",
        "- TotalCharges - она сильно коррелирует с фичей MonthlyCharges и live_time, что логично, так как чем дольше человек является клиентом, тем больше денег он потратил;\n",
        "- target - как же его не удалить?\n",
        "\n",
        "После поделим выборку на тренировочную, валидационную и тестовую, в дальнейшем преобразовывать будет только тренировочную."
      ],
      "id": "NzleXbyVUOBo"
    },
    {
      "cell_type": "code",
      "execution_count": null,
      "metadata": {
        "id": "nJVBK_SKUOBo"
      },
      "outputs": [],
      "source": [
        "X_col = df.drop(['customerID', 'BeginDate', 'EndDate', 'TotalCharges', 'target'], axis=1)\n",
        "y_col = df['target']"
      ],
      "id": "nJVBK_SKUOBo"
    },
    {
      "cell_type": "code",
      "execution_count": null,
      "metadata": {
        "id": "_dEaQQCgUOBp"
      },
      "outputs": [],
      "source": [
        "X_col_train, X_col_valid, y_col_train, y_col_valid = train_test_split(\n",
        "    X_col, y_col, test_size=0.20, random_state=42, stratify=df['target'])"
      ],
      "id": "_dEaQQCgUOBp"
    },
    {
      "cell_type": "code",
      "execution_count": null,
      "metadata": {
        "id": "kSqsMcWaUOBp"
      },
      "outputs": [],
      "source": [
        "X_col_train, X_col_test, y_col_train, y_col_test = train_test_split(\n",
        "    X_col_train, y_col_train, test_size=0.25, random_state=42, stratify=y_col_train)"
      ],
      "id": "kSqsMcWaUOBp"
    },
    {
      "cell_type": "code",
      "execution_count": null,
      "metadata": {
        "id": "C6ox8_fyUOBp",
        "outputId": "553cb882-6845-444b-9fac-88e336389c47"
      },
      "outputs": [
        {
          "name": "stdout",
          "output_type": "stream",
          "text": [
            "(4218, 17) (1407, 17) (1407, 17)\n"
          ]
        }
      ],
      "source": [
        "print(X_col_train.shape, X_col_valid.shape, X_col_test.shape)"
      ],
      "id": "C6ox8_fyUOBp"
    },
    {
      "cell_type": "markdown",
      "metadata": {
        "id": "rAt2gQNOUOBp"
      },
      "source": [
        "Посмотрим на баланс классов"
      ],
      "id": "rAt2gQNOUOBp"
    },
    {
      "cell_type": "code",
      "execution_count": null,
      "metadata": {
        "id": "EBPpJD4OUOBp",
        "outputId": "51f36d46-277a-4a91-b85a-85e09370a3aa"
      },
      "outputs": [
        {
          "data": {
            "text/plain": [
              "0    3097\n",
              "1    1121\n",
              "Name: target, dtype: int64"
            ]
          },
          "execution_count": 33,
          "metadata": {},
          "output_type": "execute_result"
        }
      ],
      "source": [
        "y_col_train.value_counts()"
      ],
      "id": "EBPpJD4OUOBp"
    },
    {
      "cell_type": "markdown",
      "metadata": {
        "id": "DWTnq8t1UOBq"
      },
      "source": [
        "Без масштабирования признаков не удавалась получить roc-auc больше, чем 0.81. Поэтому отмасштабируем количественные фичи, причем обучим только на тренировочной выборке, а преобразуем все"
      ],
      "id": "DWTnq8t1UOBq"
    },
    {
      "cell_type": "code",
      "execution_count": null,
      "metadata": {
        "id": "bcUNfVuKUOBq"
      },
      "outputs": [],
      "source": [
        "scaler = StandardScaler()"
      ],
      "id": "bcUNfVuKUOBq"
    },
    {
      "cell_type": "code",
      "execution_count": null,
      "metadata": {
        "id": "EJijNG_8UOBr",
        "outputId": "30349116-b03d-4bb4-bece-88352f4599e3"
      },
      "outputs": [
        {
          "data": {
            "text/plain": [
              "StandardScaler()"
            ]
          },
          "execution_count": 37,
          "metadata": {},
          "output_type": "execute_result"
        }
      ],
      "source": [
        "scaler.fit(X_col_train[['MonthlyCharges','live_time','SeniorCitizen']])"
      ],
      "id": "EJijNG_8UOBr"
    },
    {
      "cell_type": "code",
      "execution_count": null,
      "metadata": {
        "id": "v4up-euiUOBr"
      },
      "outputs": [],
      "source": [
        "X_col_train[['MonthlyCharges','live_time','SeniorCitizen']] = scaler.transform(X_col_train[['MonthlyCharges','live_time','SeniorCitizen']])"
      ],
      "id": "v4up-euiUOBr"
    },
    {
      "cell_type": "code",
      "execution_count": null,
      "metadata": {
        "id": "5IqvwkMrUOBr",
        "outputId": "f016a3e0-8438-469f-8655-712020ab1c88"
      },
      "outputs": [
        {
          "name": "stderr",
          "output_type": "stream",
          "text": [
            "/opt/conda/lib/python3.7/site-packages/ipykernel_launcher.py:1: SettingWithCopyWarning: \n",
            "A value is trying to be set on a copy of a slice from a DataFrame.\n",
            "Try using .loc[row_indexer,col_indexer] = value instead\n",
            "\n",
            "See the caveats in the documentation: http://pandas.pydata.org/pandas-docs/stable/user_guide/indexing.html#returning-a-view-versus-a-copy\n",
            "  \"\"\"Entry point for launching an IPython kernel.\n",
            "/opt/conda/lib/python3.7/site-packages/pandas/core/indexing.py:494: SettingWithCopyWarning: \n",
            "A value is trying to be set on a copy of a slice from a DataFrame.\n",
            "Try using .loc[row_indexer,col_indexer] = value instead\n",
            "\n",
            "See the caveats in the documentation: http://pandas.pydata.org/pandas-docs/stable/user_guide/indexing.html#returning-a-view-versus-a-copy\n",
            "  self.obj[item] = s\n"
          ]
        }
      ],
      "source": [
        "X_col_valid[['MonthlyCharges','live_time','SeniorCitizen']] = scaler.transform(X_col_valid[['MonthlyCharges','live_time','SeniorCitizen']])"
      ],
      "id": "5IqvwkMrUOBr"
    },
    {
      "cell_type": "code",
      "execution_count": null,
      "metadata": {
        "id": "Fa25xp3wUOBr"
      },
      "outputs": [],
      "source": [
        "X_col_test[['MonthlyCharges','live_time','SeniorCitizen']] = scaler.transform(X_col_test[['MonthlyCharges','live_time','SeniorCitizen']])"
      ],
      "id": "Fa25xp3wUOBr"
    },
    {
      "cell_type": "markdown",
      "metadata": {
        "id": "m-7VefMvUOBr"
      },
      "source": [
        "## Создание модели"
      ],
      "id": "m-7VefMvUOBr"
    },
    {
      "cell_type": "markdown",
      "metadata": {
        "id": "AggihdvAUOBs"
      },
      "source": [
        "В датасете много категориальных признаков - покажем их катбусту"
      ],
      "id": "AggihdvAUOBs"
    },
    {
      "cell_type": "code",
      "execution_count": null,
      "metadata": {
        "id": "4w0on6VEUOBs"
      },
      "outputs": [],
      "source": [
        "cat_features = ['Type', 'PaperlessBilling', 'PaymentMethod', 'gender','Partner',\n",
        "                 'Dependents', 'InternetService','OnlineSecurity', 'OnlineBackup','DeviceProtection',\n",
        "                 'TechSupport','StreamingTV', 'StreamingMovies', 'MultipleLines']"
      ],
      "id": "4w0on6VEUOBs"
    },
    {
      "cell_type": "code",
      "execution_count": null,
      "metadata": {
        "id": "3NKo7nUWUOBs"
      },
      "outputs": [],
      "source": [
        "cb_model = CatBoostClassifier(loss_function='Logloss',random_state = 42,\n",
        "                              cat_features=cat_features,early_stopping_rounds=200, verbose=100)"
      ],
      "id": "3NKo7nUWUOBs"
    },
    {
      "cell_type": "code",
      "execution_count": null,
      "metadata": {
        "id": "SZeJbT3pUOBs"
      },
      "outputs": [],
      "source": [
        "grid = {'learning_rate': np.arange(0.05,1.05,0.2),\n",
        "        'depth': [4, 6, 10]}"
      ],
      "id": "SZeJbT3pUOBs"
    },
    {
      "cell_type": "code",
      "execution_count": null,
      "metadata": {
        "id": "X8-17bnuUOBs",
        "outputId": "75c25841-f054-4b8a-ed45-61ae79d0e042"
      },
      "outputs": [
        {
          "name": "stdout",
          "output_type": "stream",
          "text": [
            "0:\tloss: 0.3146124\tbest: 0.3146124 (0)\ttotal: 49.2s\tremaining: 11m 29s\n",
            "1:\tloss: 0.3073864\tbest: 0.3073864 (1)\ttotal: 1m 14s\tremaining: 8m 1s\n",
            "2:\tloss: 0.3216038\tbest: 0.3073864 (1)\ttotal: 1m 31s\tremaining: 6m 7s\n",
            "3:\tloss: 0.2991577\tbest: 0.2991577 (3)\ttotal: 1m 46s\tremaining: 4m 53s\n",
            "4:\tloss: 0.3385137\tbest: 0.2991577 (3)\ttotal: 1m 58s\tremaining: 3m 57s\n",
            "5:\tloss: 0.3201371\tbest: 0.2991577 (3)\ttotal: 3m 13s\tremaining: 4m 50s\n",
            "6:\tloss: 0.3213384\tbest: 0.2991577 (3)\ttotal: 3m 38s\tremaining: 4m 9s\n",
            "7:\tloss: 0.3357405\tbest: 0.2991577 (3)\ttotal: 3m 59s\tremaining: 3m 29s\n",
            "8:\tloss: 0.3334873\tbest: 0.2991577 (3)\ttotal: 4m 17s\tremaining: 2m 51s\n",
            "9:\tloss: 0.3659330\tbest: 0.2991577 (3)\ttotal: 4m 34s\tremaining: 2m 17s\n",
            "10:\tloss: 0.3566995\tbest: 0.2991577 (3)\ttotal: 6m 43s\tremaining: 2m 26s\n",
            "11:\tloss: 0.3734220\tbest: 0.2991577 (3)\ttotal: 7m 37s\tremaining: 1m 54s\n",
            "12:\tloss: 0.3959272\tbest: 0.2991577 (3)\ttotal: 8m 17s\tremaining: 1m 16s\n",
            "13:\tloss: 0.4013086\tbest: 0.2991577 (3)\ttotal: 8m 55s\tremaining: 38.3s\n",
            "14:\tloss: 0.3966492\tbest: 0.2991577 (3)\ttotal: 9m 32s\tremaining: 0us\n",
            "Estimating final quality...\n"
          ]
        }
      ],
      "source": [
        "grid_search_result = cb_model.grid_search(grid, X=X_col_train, y=y_col_train, cv=5)"
      ],
      "id": "X8-17bnuUOBs"
    },
    {
      "cell_type": "code",
      "execution_count": null,
      "metadata": {
        "id": "mkISgIydUOBs",
        "outputId": "e01adfa8-d0bb-492a-f223-477b1c4ba326"
      },
      "outputs": [
        {
          "data": {
            "text/plain": [
              "{'loss_function': 'Logloss',\n",
              " 'verbose': 100,\n",
              " 'random_state': 42,\n",
              " 'early_stopping_rounds': 200,\n",
              " 'cat_features': ['Type',\n",
              "  'PaperlessBilling',\n",
              "  'PaymentMethod',\n",
              "  'gender',\n",
              "  'Partner',\n",
              "  'Dependents',\n",
              "  'InternetService',\n",
              "  'OnlineSecurity',\n",
              "  'OnlineBackup',\n",
              "  'DeviceProtection',\n",
              "  'TechSupport',\n",
              "  'StreamingTV',\n",
              "  'StreamingMovies',\n",
              "  'MultipleLines'],\n",
              " 'depth': 4,\n",
              " 'learning_rate': 0.6500000000000001}"
            ]
          },
          "execution_count": 45,
          "metadata": {},
          "output_type": "execute_result"
        }
      ],
      "source": [
        "cb_model.get_params()"
      ],
      "id": "mkISgIydUOBs"
    },
    {
      "cell_type": "markdown",
      "metadata": {
        "id": "ITDJqLuvUOBt"
      },
      "source": [
        "Посмотрим значение roc-auc на валидационной выборке"
      ],
      "id": "ITDJqLuvUOBt"
    },
    {
      "cell_type": "code",
      "execution_count": null,
      "metadata": {
        "id": "ir1WfHiqUOBt"
      },
      "outputs": [],
      "source": [
        "cb_pred = cb_model.predict_proba(X_col_valid)[:, 1]"
      ],
      "id": "ir1WfHiqUOBt"
    },
    {
      "cell_type": "code",
      "execution_count": null,
      "metadata": {
        "id": "zAYFqsJdUOBt"
      },
      "outputs": [],
      "source": [
        "valid = roc_auc_score(y_col_valid, cb_pred)"
      ],
      "id": "zAYFqsJdUOBt"
    },
    {
      "cell_type": "code",
      "execution_count": null,
      "metadata": {
        "id": "k-jtkqa5UOBt",
        "outputId": "297a2f55-aa83-4f82-9af5-a246792431bc"
      },
      "outputs": [
        {
          "data": {
            "text/plain": [
              "0.9072453939773568"
            ]
          },
          "execution_count": 48,
          "metadata": {},
          "output_type": "execute_result"
        }
      ],
      "source": [
        "valid"
      ],
      "id": "k-jtkqa5UOBt"
    },
    {
      "cell_type": "markdown",
      "metadata": {
        "id": "NXnuToQXUOBt"
      },
      "source": [
        "Хороший результат, гнаться за лучшим - значит получить риск переобучить модель. Поэтому больше ничего улучшать в данных не буду. Единственное, что хочу сделать - это посмотреть на важность признаков и выкинуть лишние, если получится, чтобы сделать модель легче. Также потом соединю тренировочную и тестовую выборки, так как данных достаточно мало и выкидывать 20% процентов - не правильно, после этого обучу модель и посмотрю метрики на тестовой выборке"
      ],
      "id": "NXnuToQXUOBt"
    },
    {
      "cell_type": "code",
      "execution_count": null,
      "metadata": {
        "id": "CUwMewj4UOBt",
        "outputId": "385f6a20-a91b-4867-ae12-7c682aea25ae"
      },
      "outputs": [
        {
          "data": {
            "image/png": "[encoded data removed]",
            "text/plain": [
              "<Figure size 864x432 with 1 Axes>"
            ]
          },
          "metadata": {
            "needs_background": "light"
          },
          "output_type": "display_data"
        }
      ],
      "source": [
        "feature_importance = cb_model.feature_importances_\n",
        "feature_imp = pd.DataFrame(sorted(zip(feature_importance, X_col_train.columns)), columns=['Значение','Признаки'])\n",
        "plt.figure(figsize=(12,6))\n",
        "sns.barplot(x=\"Значение\", y=\"Признаки\", data=feature_imp.sort_values(by=\"Значение\", ascending=False))\n",
        "plt.title('Важность признаков')\n",
        "plt.tight_layout()\n",
        "plt.show();"
      ],
      "id": "CUwMewj4UOBt"
    },
    {
      "cell_type": "markdown",
      "metadata": {
        "id": "5LtdzRF2UOBu"
      },
      "source": [
        "Как видно, модели важны только первые 5 признаков, их и оставим для дальнейшей работы"
      ],
      "id": "5LtdzRF2UOBu"
    },
    {
      "cell_type": "code",
      "execution_count": null,
      "metadata": {
        "id": "edfZKQQBUOBu"
      },
      "outputs": [],
      "source": [
        "X_col_train = X_col_train[['live_time','MonthlyCharges','Type','PaymentMethod','MultipleLines']]"
      ],
      "id": "edfZKQQBUOBu"
    },
    {
      "cell_type": "code",
      "execution_count": null,
      "metadata": {
        "id": "2zvfn7v0UOBu"
      },
      "outputs": [],
      "source": [
        "X_col_valid = X_col_valid[['live_time','MonthlyCharges','Type','PaymentMethod','MultipleLines']]"
      ],
      "id": "2zvfn7v0UOBu"
    },
    {
      "cell_type": "code",
      "execution_count": null,
      "metadata": {
        "id": "dyRo6IWrUOBu"
      },
      "outputs": [],
      "source": [
        "X_col_test = X_col_test[['live_time','MonthlyCharges','Type','PaymentMethod','MultipleLines']]"
      ],
      "id": "dyRo6IWrUOBu"
    },
    {
      "cell_type": "code",
      "execution_count": null,
      "metadata": {
        "id": "xkt_kn4pUOBv"
      },
      "outputs": [],
      "source": [
        "cat_features = ['Type','PaymentMethod','MultipleLines']"
      ],
      "id": "xkt_kn4pUOBv"
    },
    {
      "cell_type": "markdown",
      "metadata": {
        "id": "BxjX7tNyUOBv"
      },
      "source": [
        "Перед объединением тренировочной и валидационной выборок проверим не ухудшились ли показатели после проведенных манипуляций"
      ],
      "id": "BxjX7tNyUOBv"
    },
    {
      "cell_type": "code",
      "execution_count": null,
      "metadata": {
        "id": "7VE4MNSBUOBv"
      },
      "outputs": [],
      "source": [
        "cb_model = CatBoostClassifier(loss_function='Logloss',random_state = 42,\n",
        "                              cat_features=cat_features,early_stopping_rounds=200, verbose=100)"
      ],
      "id": "7VE4MNSBUOBv"
    },
    {
      "cell_type": "code",
      "execution_count": null,
      "metadata": {
        "id": "4-x-Lot_UOBv"
      },
      "outputs": [],
      "source": [
        "grid = {'learning_rate': np.arange(0.05,1.05,0.2),\n",
        "        'depth': [4, 6, 10]}"
      ],
      "id": "4-x-Lot_UOBv"
    },
    {
      "cell_type": "code",
      "execution_count": null,
      "metadata": {
        "id": "kFDX9nFjUOBv",
        "outputId": "f87738f4-7f97-45a4-d021-4bbf6e3452cb"
      },
      "outputs": [
        {
          "name": "stdout",
          "output_type": "stream",
          "text": [
            "0:\tlearn: 0.6595320\ttest: 0.6580734\tbest: 0.6580734 (0)\ttotal: 10.7ms\tremaining: 10.7s\n",
            "100:\tlearn: 0.3788537\ttest: 0.3807850\tbest: 0.3807850 (100)\ttotal: 1.28s\tremaining: 11.4s\n",
            "200:\tlearn: 0.3579156\ttest: 0.3652221\tbest: 0.3652221 (200)\ttotal: 2.53s\tremaining: 10.1s\n",
            "300:\tlearn: 0.3357955\ttest: 0.3524584\tbest: 0.3524584 (300)\ttotal: 3.77s\tremaining: 8.76s\n",
            "400:\tlearn: 0.3161509\ttest: 0.3425400\tbest: 0.3423147 (393)\ttotal: 5.06s\tremaining: 7.56s\n",
            "500:\tlearn: 0.3009773\ttest: 0.3353121\tbest: 0.3353121 (500)\ttotal: 6.36s\tremaining: 6.33s\n",
            "600:\tlearn: 0.2889136\ttest: 0.3315103\tbest: 0.3314107 (597)\ttotal: 7.63s\tremaining: 5.06s\n",
            "700:\tlearn: 0.2769461\ttest: 0.3285983\tbest: 0.3285852 (699)\ttotal: 8.94s\tremaining: 3.81s\n",
            "800:\tlearn: 0.2658513\ttest: 0.3235602\tbest: 0.3233735 (799)\ttotal: 10.3s\tremaining: 2.55s\n",
            "900:\tlearn: 0.2572678\ttest: 0.3216222\tbest: 0.3210651 (885)\ttotal: 11.6s\tremaining: 1.28s\n",
            "999:\tlearn: 0.2494722\ttest: 0.3187107\tbest: 0.3187107 (999)\ttotal: 13s\tremaining: 0us\n",
            "\n",
            "bestTest = 0.318710689\n",
            "bestIteration = 999\n",
            "\n",
            "0:\tloss: 0.3187107\tbest: 0.3187107 (0)\ttotal: 13s\tremaining: 3m 2s\n",
            "0:\tlearn: 0.5551085\ttest: 0.5493374\tbest: 0.5493374 (0)\ttotal: 11ms\tremaining: 11s\n",
            "100:\tlearn: 0.2947967\ttest: 0.3253127\tbest: 0.3241223 (93)\ttotal: 1.33s\tremaining: 11.8s\n",
            "200:\tlearn: 0.2392319\ttest: 0.2983693\tbest: 0.2978667 (197)\ttotal: 2.61s\tremaining: 10.4s\n",
            "300:\tlearn: 0.2081893\ttest: 0.2952145\tbest: 0.2929546 (283)\ttotal: 3.91s\tremaining: 9.07s\n",
            "400:\tlearn: 0.1808735\ttest: 0.2929404\tbest: 0.2910549 (375)\ttotal: 5.21s\tremaining: 7.78s\n",
            "500:\tlearn: 0.1619666\ttest: 0.2937140\tbest: 0.2904715 (475)\ttotal: 6.53s\tremaining: 6.5s\n",
            "600:\tlearn: 0.1490461\ttest: 0.2938973\tbest: 0.2904715 (475)\ttotal: 7.8s\tremaining: 5.18s\n",
            "Stopped by overfitting detector  (200 iterations wait)\n",
            "\n",
            "bestTest = 0.2904715048\n",
            "bestIteration = 475\n",
            "\n",
            "1:\tloss: 0.2904715\tbest: 0.2904715 (1)\ttotal: 21.9s\tremaining: 2m 22s\n",
            "0:\tlearn: 0.4916872\ttest: 0.4836971\tbest: 0.4836971 (0)\ttotal: 10.3ms\tremaining: 10.3s\n",
            "100:\tlearn: 0.2377165\ttest: 0.2971942\tbest: 0.2971942 (100)\ttotal: 1.25s\tremaining: 11.2s\n",
            "200:\tlearn: 0.1816862\ttest: 0.2920671\tbest: 0.2881734 (154)\ttotal: 2.58s\tremaining: 10.3s\n",
            "300:\tlearn: 0.1500866\ttest: 0.3013596\tbest: 0.2881734 (154)\ttotal: 3.92s\tremaining: 9.09s\n",
            "Stopped by overfitting detector  (200 iterations wait)\n",
            "\n",
            "bestTest = 0.2881733758\n",
            "bestIteration = 154\n",
            "\n",
            "2:\tloss: 0.2881734\tbest: 0.2881734 (2)\ttotal: 26.5s\tremaining: 1m 46s\n",
            "0:\tlearn: 0.4574592\ttest: 0.4487861\tbest: 0.4487861 (0)\ttotal: 11.1ms\tremaining: 11.1s\n",
            "100:\tlearn: 0.2150538\ttest: 0.3001187\tbest: 0.2999648 (99)\ttotal: 1.3s\tremaining: 11.6s\n",
            "200:\tlearn: 0.1554486\ttest: 0.3135199\tbest: 0.2990263 (105)\ttotal: 2.58s\tremaining: 10.3s\n",
            "300:\tlearn: 0.1196930\ttest: 0.3138122\tbest: 0.2990263 (105)\ttotal: 3.93s\tremaining: 9.13s\n",
            "Stopped by overfitting detector  (200 iterations wait)\n",
            "\n",
            "bestTest = 0.2990262505\n",
            "bestIteration = 105\n",
            "\n",
            "3:\tloss: 0.2990263\tbest: 0.2881734 (2)\ttotal: 30.6s\tremaining: 1m 24s\n",
            "0:\tlearn: 0.4424337\ttest: 0.4341452\tbest: 0.4341452 (0)\ttotal: 10.6ms\tremaining: 10.6s\n",
            "100:\tlearn: 0.1994370\ttest: 0.3172793\tbest: 0.3139731 (79)\ttotal: 1.29s\tremaining: 11.5s\n",
            "200:\tlearn: 0.1331347\ttest: 0.3375394\tbest: 0.3139731 (79)\ttotal: 2.68s\tremaining: 10.6s\n",
            "Stopped by overfitting detector  (200 iterations wait)\n",
            "\n",
            "bestTest = 0.3139731323\n",
            "bestIteration = 79\n",
            "\n",
            "4:\tloss: 0.3139731\tbest: 0.2881734 (2)\ttotal: 34.3s\tremaining: 1m 8s\n",
            "0:\tlearn: 0.6598731\ttest: 0.6584811\tbest: 0.6584811 (0)\ttotal: 22.7ms\tremaining: 22.6s\n",
            "100:\tlearn: 0.3737545\ttest: 0.3796170\tbest: 0.3796170 (100)\ttotal: 1.68s\tremaining: 15s\n",
            "200:\tlearn: 0.3430396\ttest: 0.3583826\tbest: 0.3583826 (200)\ttotal: 3.38s\tremaining: 13.4s\n",
            "300:\tlearn: 0.3091169\ttest: 0.3449103\tbest: 0.3447654 (295)\ttotal: 5.34s\tremaining: 12.4s\n",
            "400:\tlearn: 0.2819252\ttest: 0.3326295\tbest: 0.3326295 (400)\ttotal: 7.23s\tremaining: 10.8s\n",
            "500:\tlearn: 0.2615222\ttest: 0.3247993\tbest: 0.3247993 (500)\ttotal: 9.12s\tremaining: 9.08s\n",
            "600:\tlearn: 0.2413801\ttest: 0.3162492\tbest: 0.3162249 (599)\ttotal: 11s\tremaining: 7.31s\n",
            "700:\tlearn: 0.2254714\ttest: 0.3098875\tbest: 0.3098356 (699)\ttotal: 12.9s\tremaining: 5.5s\n",
            "800:\tlearn: 0.2128021\ttest: 0.3050237\tbest: 0.3049273 (799)\ttotal: 14.8s\tremaining: 3.67s\n",
            "900:\tlearn: 0.1997747\ttest: 0.2999036\tbest: 0.2999036 (900)\ttotal: 16.7s\tremaining: 1.83s\n",
            "999:\tlearn: 0.1898400\ttest: 0.2994603\tbest: 0.2988631 (966)\ttotal: 18.6s\tremaining: 0us\n",
            "\n",
            "bestTest = 0.2988630693\n",
            "bestIteration = 966\n",
            "\n",
            "5:\tloss: 0.2988631\tbest: 0.2881734 (2)\ttotal: 52.9s\tremaining: 1m 19s\n",
            "0:\tlearn: 0.5559647\ttest: 0.5504857\tbest: 0.5504857 (0)\ttotal: 23.3ms\tremaining: 23.3s\n",
            "100:\tlearn: 0.2515870\ttest: 0.3288973\tbest: 0.3268419 (96)\ttotal: 1.83s\tremaining: 16.3s\n",
            "200:\tlearn: 0.1827179\ttest: 0.3171969\tbest: 0.3159067 (183)\ttotal: 3.74s\tremaining: 14.9s\n",
            "300:\tlearn: 0.1432863\ttest: 0.3101100\tbest: 0.3074711 (254)\ttotal: 5.62s\tremaining: 13.1s\n",
            "400:\tlearn: 0.1183687\ttest: 0.3119359\tbest: 0.3074711 (254)\ttotal: 7.58s\tremaining: 11.3s\n",
            "Stopped by overfitting detector  (200 iterations wait)\n",
            "\n",
            "bestTest = 0.3074711053\n",
            "bestIteration = 254\n",
            "\n",
            "6:\tloss: 0.3074711\tbest: 0.2881734 (2)\ttotal: 1m 1s\tremaining: 1m 10s\n",
            "0:\tlearn: 0.4921835\ttest: 0.4846035\tbest: 0.4846035 (0)\ttotal: 18.8ms\tremaining: 18.8s\n",
            "100:\tlearn: 0.1882322\ttest: 0.3146852\tbest: 0.3146852 (100)\ttotal: 1.89s\tremaining: 16.9s\n",
            "200:\tlearn: 0.1250124\ttest: 0.3206681\tbest: 0.3141045 (101)\ttotal: 3.75s\tremaining: 14.9s\n",
            "300:\tlearn: 0.0910788\ttest: 0.3289797\tbest: 0.3141045 (101)\ttotal: 5.64s\tremaining: 13.1s\n",
            "Stopped by overfitting detector  (200 iterations wait)\n",
            "\n",
            "bestTest = 0.3141045079\n",
            "bestIteration = 101\n",
            "\n",
            "7:\tloss: 0.3141045\tbest: 0.2881734 (2)\ttotal: 1m 7s\tremaining: 58.8s\n",
            "0:\tlearn: 0.4573381\ttest: 0.4490663\tbest: 0.4490663 (0)\ttotal: 28.7ms\tremaining: 28.7s\n",
            "100:\tlearn: 0.1592140\ttest: 0.3434654\tbest: 0.3272605 (66)\ttotal: 1.87s\tremaining: 16.7s\n",
            "200:\tlearn: 0.0921341\ttest: 0.3602331\tbest: 0.3271757 (125)\ttotal: 3.82s\tremaining: 15.2s\n",
            "300:\tlearn: 0.0626541\ttest: 0.3815928\tbest: 0.3271757 (125)\ttotal: 5.75s\tremaining: 13.4s\n",
            "Stopped by overfitting detector  (200 iterations wait)\n",
            "\n",
            "bestTest = 0.32717569\n",
            "bestIteration = 125\n",
            "\n",
            "8:\tloss: 0.3271757\tbest: 0.2881734 (2)\ttotal: 1m 13s\tremaining: 49s\n",
            "0:\tlearn: 0.4417372\ttest: 0.4337544\tbest: 0.4337544 (0)\ttotal: 15.6ms\tremaining: 15.6s\n",
            "100:\tlearn: 0.1317884\ttest: 0.3613850\tbest: 0.3459493 (24)\ttotal: 1.86s\tremaining: 16.6s\n",
            "200:\tlearn: 0.0728176\ttest: 0.3687724\tbest: 0.3459493 (24)\ttotal: 3.77s\tremaining: 15s\n",
            "Stopped by overfitting detector  (200 iterations wait)\n",
            "\n",
            "bestTest = 0.345949263\n",
            "bestIteration = 24\n",
            "\n",
            "9:\tloss: 0.3459493\tbest: 0.2881734 (2)\ttotal: 1m 17s\tremaining: 38.9s\n",
            "0:\tlearn: 0.6591019\ttest: 0.6572129\tbest: 0.6572129 (0)\ttotal: 27ms\tremaining: 26.9s\n",
            "100:\tlearn: 0.3534957\ttest: 0.3765470\tbest: 0.3765463 (99)\ttotal: 2.44s\tremaining: 21.7s\n",
            "200:\tlearn: 0.3067908\ttest: 0.3623003\tbest: 0.3622309 (199)\ttotal: 5.23s\tremaining: 20.8s\n",
            "300:\tlearn: 0.2500560\ttest: 0.3415082\tbest: 0.3410681 (297)\ttotal: 8.96s\tremaining: 20.8s\n",
            "400:\tlearn: 0.2120476\ttest: 0.3302491\tbest: 0.3302226 (399)\ttotal: 12.6s\tremaining: 18.9s\n",
            "500:\tlearn: 0.1842840\ttest: 0.3254649\tbest: 0.3247735 (455)\ttotal: 16.3s\tremaining: 16.2s\n",
            "600:\tlearn: 0.1621899\ttest: 0.3215354\tbest: 0.3213802 (599)\ttotal: 20s\tremaining: 13.3s\n",
            "700:\tlearn: 0.1451351\ttest: 0.3190779\tbest: 0.3190779 (700)\ttotal: 23.7s\tremaining: 10.1s\n",
            "800:\tlearn: 0.1283408\ttest: 0.3173035\tbest: 0.3169902 (777)\ttotal: 27.4s\tremaining: 6.82s\n",
            "900:\tlearn: 0.1151708\ttest: 0.3163617\tbest: 0.3158095 (850)\ttotal: 31.5s\tremaining: 3.46s\n",
            "999:\tlearn: 0.1049447\ttest: 0.3169312\tbest: 0.3158095 (850)\ttotal: 35.1s\tremaining: 0us\n",
            "\n",
            "bestTest = 0.315809452\n",
            "bestIteration = 850\n",
            "\n",
            "10:\tloss: 0.3158095\tbest: 0.2881734 (2)\ttotal: 1m 52s\tremaining: 41.1s\n",
            "0:\tlearn: 0.5533542\ttest: 0.5465116\tbest: 0.5465116 (0)\ttotal: 28.9ms\tremaining: 28.9s\n",
            "100:\tlearn: 0.1823594\ttest: 0.3370334\tbest: 0.3355570 (94)\ttotal: 3.24s\tremaining: 28.8s\n",
            "200:\tlearn: 0.1023802\ttest: 0.3331637\tbest: 0.3223439 (170)\ttotal: 6.95s\tremaining: 27.6s\n",
            "300:\tlearn: 0.0660847\ttest: 0.3395946\tbest: 0.3223439 (170)\ttotal: 10.6s\tremaining: 24.7s\n",
            "Stopped by overfitting detector  (200 iterations wait)\n",
            "\n",
            "bestTest = 0.3223438998\n",
            "bestIteration = 170\n",
            "\n",
            "11:\tloss: 0.3223439\tbest: 0.2881734 (2)\ttotal: 2m 6s\tremaining: 31.5s\n",
            "0:\tlearn: 0.4889417\ttest: 0.4803215\tbest: 0.4803215 (0)\ttotal: 28.6ms\tremaining: 28.6s\n",
            "100:\tlearn: 0.1090652\ttest: 0.3614804\tbest: 0.3472764 (33)\ttotal: 3.45s\tremaining: 30.7s\n",
            "200:\tlearn: 0.0536021\ttest: 0.3908033\tbest: 0.3472764 (33)\ttotal: 7.21s\tremaining: 28.7s\n",
            "Stopped by overfitting detector  (200 iterations wait)\n",
            "\n",
            "bestTest = 0.347276415\n",
            "bestIteration = 33\n",
            "\n",
            "12:\tloss: 0.3472764\tbest: 0.2881734 (2)\ttotal: 2m 14s\tremaining: 20.7s\n",
            "0:\tlearn: 0.4538177\ttest: 0.4453045\tbest: 0.4453045 (0)\ttotal: 26.3ms\tremaining: 26.2s\n",
            "100:\tlearn: 0.0769213\ttest: 0.3905833\tbest: 0.3549048 (34)\ttotal: 3.52s\tremaining: 31.3s\n",
            "200:\tlearn: 0.0324213\ttest: 0.4037914\tbest: 0.3549048 (34)\ttotal: 7.18s\tremaining: 28.5s\n",
            "Stopped by overfitting detector  (200 iterations wait)\n",
            "\n",
            "bestTest = 0.3549048377\n",
            "bestIteration = 34\n",
            "\n",
            "13:\tloss: 0.3549048\tbest: 0.2881734 (2)\ttotal: 2m 23s\tremaining: 10.2s\n",
            "0:\tlearn: 0.4379252\ttest: 0.4306220\tbest: 0.4306220 (0)\ttotal: 27.3ms\tremaining: 27.3s\n",
            "100:\tlearn: 0.0584589\ttest: 0.4315606\tbest: 0.3557248 (20)\ttotal: 3.52s\tremaining: 31.4s\n",
            "200:\tlearn: 0.0240832\ttest: 0.4700580\tbest: 0.3557248 (20)\ttotal: 7.21s\tremaining: 28.7s\n",
            "Stopped by overfitting detector  (200 iterations wait)\n",
            "\n",
            "bestTest = 0.3557248061\n",
            "bestIteration = 20\n",
            "\n",
            "14:\tloss: 0.3557248\tbest: 0.2881734 (2)\ttotal: 2m 31s\tremaining: 0us\n",
            "Estimating final quality...\n",
            "0:\tlearn: 0.5059269\ttest: 0.5088427\tbest: 0.5088427 (0)\n",
            "100:\tlearn: 0.2391858\ttest: 0.3141571\tbest: 0.3139691 (99)\n",
            "200:\tlearn: 0.1835002\ttest: 0.3020524\tbest: 0.3020524 (200)\n",
            "300:\tlearn: 0.1497197\ttest: 0.3029633\tbest: 0.2999256 (263)\n",
            "400:\tlearn: 0.1255838\ttest: 0.3033262\tbest: 0.2999256 (263)\n",
            "Stopped by overfitting detector  (200 iterations wait)\n"
          ]
        }
      ],
      "source": [
        "grid_search_result = cb_model.grid_search(grid, X=X_col_train, y=y_col_train, cv=5)"
      ],
      "id": "kFDX9nFjUOBv"
    },
    {
      "cell_type": "code",
      "execution_count": null,
      "metadata": {
        "id": "8PGsDjLUUOBv",
        "outputId": "ffd8567c-9d7a-44ad-d3b8-37320e9d1db3"
      },
      "outputs": [
        {
          "data": {
            "text/plain": [
              "{'loss_function': 'Logloss',\n",
              " 'verbose': 100,\n",
              " 'random_state': 42,\n",
              " 'early_stopping_rounds': 200,\n",
              " 'cat_features': ['Type', 'PaymentMethod', 'MultipleLines'],\n",
              " 'depth': 4,\n",
              " 'learning_rate': 0.45}"
            ]
          },
          "execution_count": 59,
          "metadata": {},
          "output_type": "execute_result"
        }
      ],
      "source": [
        "cb_model.get_params()"
      ],
      "id": "8PGsDjLUUOBv"
    },
    {
      "cell_type": "code",
      "execution_count": null,
      "metadata": {
        "id": "WyF0LyLKUOBw"
      },
      "outputs": [],
      "source": [
        "cb_pred = cb_model.predict_proba(X_col_valid)[:, 1]"
      ],
      "id": "WyF0LyLKUOBw"
    },
    {
      "cell_type": "code",
      "execution_count": null,
      "metadata": {
        "id": "R8QNbLTxUOBw"
      },
      "outputs": [],
      "source": [
        "valid = roc_auc_score(y_col_valid, cb_pred)"
      ],
      "id": "R8QNbLTxUOBw"
    },
    {
      "cell_type": "code",
      "execution_count": null,
      "metadata": {
        "id": "SjCV5_zvUOBw",
        "outputId": "cf2bd74c-a62c-4409-cbbc-940b77d8ff5f"
      },
      "outputs": [
        {
          "data": {
            "text/plain": [
              "0.9141291912347091"
            ]
          },
          "execution_count": 62,
          "metadata": {},
          "output_type": "execute_result"
        }
      ],
      "source": [
        "valid"
      ],
      "id": "SjCV5_zvUOBw"
    },
    {
      "cell_type": "markdown",
      "metadata": {
        "id": "F031HwclUOBw"
      },
      "source": [
        "Показатель остался практически таким-же, но модель стала учиться немного быстрее, поэтому оставим такой вариант"
      ],
      "id": "F031HwclUOBw"
    },
    {
      "cell_type": "markdown",
      "metadata": {
        "id": "iS-vFZImUOBw"
      },
      "source": [
        "Теперь объединим выборки, и перемешаем данные"
      ],
      "id": "iS-vFZImUOBw"
    },
    {
      "cell_type": "code",
      "execution_count": null,
      "metadata": {
        "id": "6EdSUFfxUOBw"
      },
      "outputs": [],
      "source": [
        "X_col_train = pd.concat([X_col_train, X_col_valid])"
      ],
      "id": "6EdSUFfxUOBw"
    },
    {
      "cell_type": "code",
      "execution_count": null,
      "metadata": {
        "id": "rxyxTducUOBw"
      },
      "outputs": [],
      "source": [
        "y_col_train = pd.concat([y_col_train, y_col_valid])"
      ],
      "id": "rxyxTducUOBw"
    },
    {
      "cell_type": "code",
      "execution_count": null,
      "metadata": {
        "id": "4xFShDqYUOBx"
      },
      "outputs": [],
      "source": [
        "X_col_train, y_col_train = shuffle(X_col_train, y_col_train, random_state=42)"
      ],
      "id": "4xFShDqYUOBx"
    },
    {
      "cell_type": "code",
      "execution_count": null,
      "metadata": {
        "id": "0cdFr13DUOBx",
        "outputId": "e10637e5-4870-4c5c-c969-a3a49a469fa7"
      },
      "outputs": [
        {
          "name": "stdout",
          "output_type": "stream",
          "text": [
            "(5625, 5) (1407, 5)\n"
          ]
        }
      ],
      "source": [
        "print(X_col_train.shape, X_col_valid.shape)"
      ],
      "id": "0cdFr13DUOBx"
    },
    {
      "cell_type": "markdown",
      "metadata": {
        "id": "Zm5tKTtgUOBx"
      },
      "source": [
        "Обучим модель на объединенной выборке"
      ],
      "id": "Zm5tKTtgUOBx"
    },
    {
      "cell_type": "code",
      "execution_count": null,
      "metadata": {
        "id": "Nuy6V4kLUOBx",
        "outputId": "ab52e824-0fd2-4561-eaea-0cb831757cd8"
      },
      "outputs": [
        {
          "name": "stdout",
          "output_type": "stream",
          "text": [
            "0:\tlearn: 0.5013663\ttotal: 11.7ms\tremaining: 11.7s\n",
            "100:\tlearn: 0.2538287\ttotal: 1.47s\tremaining: 13.1s\n",
            "200:\tlearn: 0.2024816\ttotal: 2.9s\tremaining: 11.5s\n",
            "300:\tlearn: 0.1768126\ttotal: 4.34s\tremaining: 10.1s\n",
            "400:\tlearn: 0.1551994\ttotal: 5.72s\tremaining: 8.54s\n",
            "500:\tlearn: 0.1406705\ttotal: 7.22s\tremaining: 7.19s\n",
            "600:\tlearn: 0.1281306\ttotal: 8.79s\tremaining: 5.84s\n",
            "700:\tlearn: 0.1176590\ttotal: 10.3s\tremaining: 4.39s\n",
            "800:\tlearn: 0.1076511\ttotal: 11.8s\tremaining: 2.92s\n",
            "900:\tlearn: 0.0995905\ttotal: 13.2s\tremaining: 1.45s\n",
            "999:\tlearn: 0.0923475\ttotal: 14.8s\tremaining: 0us\n"
          ]
        },
        {
          "data": {
            "text/plain": [
              "<catboost.core.CatBoostClassifier at 0x27d8ce2f580>"
            ]
          },
          "execution_count": 67,
          "metadata": {},
          "output_type": "execute_result"
        }
      ],
      "source": [
        "cb_model.fit(X_col_train,y_col_train)"
      ],
      "id": "Nuy6V4kLUOBx"
    },
    {
      "cell_type": "markdown",
      "metadata": {
        "id": "tUECdUSyUOBx"
      },
      "source": [
        "## Тестирование модели, результаты"
      ],
      "id": "tUECdUSyUOBx"
    },
    {
      "cell_type": "code",
      "execution_count": null,
      "metadata": {
        "id": "-jc1SmIbUOBx"
      },
      "outputs": [],
      "source": [
        "cb_pred_test = cb_model.predict_proba(X_col_test)[:, 1]"
      ],
      "id": "-jc1SmIbUOBx"
    },
    {
      "cell_type": "code",
      "execution_count": null,
      "metadata": {
        "id": "HU8G-48BUOBy"
      },
      "outputs": [],
      "source": [
        "test = roc_auc_score(y_col_test, cb_pred_test)"
      ],
      "id": "HU8G-48BUOBy"
    },
    {
      "cell_type": "code",
      "execution_count": null,
      "metadata": {
        "id": "2RadJNI0UOBy",
        "outputId": "de3d5b6d-8e16-4026-98a2-d5d0241960ff"
      },
      "outputs": [
        {
          "data": {
            "text/plain": [
              "0.9265741234450305"
            ]
          },
          "execution_count": 70,
          "metadata": {},
          "output_type": "execute_result"
        }
      ],
      "source": [
        "test"
      ],
      "id": "2RadJNI0UOBy"
    },
    {
      "cell_type": "markdown",
      "metadata": {
        "id": "kBpqrynYUOBy"
      },
      "source": [
        "Построим ROC-кривую"
      ],
      "id": "kBpqrynYUOBy"
    },
    {
      "cell_type": "code",
      "execution_count": null,
      "metadata": {
        "id": "8-QOQrU1UOBy"
      },
      "outputs": [],
      "source": [
        "fpr, tpr, tresholds = roc_curve(y_col_test, cb_model.predict_proba(X_col_test)[:, 1])"
      ],
      "id": "8-QOQrU1UOBy"
    },
    {
      "cell_type": "code",
      "execution_count": null,
      "metadata": {
        "id": "7IYRMoIIUOBy",
        "outputId": "f9ab288b-1b70-46c5-c694-b11de18156f0"
      },
      "outputs": [
        {
          "data": {
            "image/png": "[encoded data removed]",
            "text/plain": [
              "<Figure size 864x432 with 1 Axes>"
            ]
          },
          "metadata": {
            "needs_background": "light"
          },
          "output_type": "display_data"
        }
      ],
      "source": [
        "plt.figure(figsize=(12,6))\n",
        "plt.plot(fpr, tpr, color='red', label='CatBoost')\n",
        "plt.plot([0, 1], [0, 1], color='blue')\n",
        "plt.xlim([0.0, 1.0])\n",
        "plt.ylim([0.0, 1.0])\n",
        "plt.xlabel('FPR')\n",
        "plt.ylabel('TPR')\n",
        "plt.title('ROC-кривая')\n",
        "plt.grid(True)\n",
        "plt.show()"
      ],
      "id": "7IYRMoIIUOBy"
    },
    {
      "cell_type": "markdown",
      "metadata": {
        "id": "kYpjEqXzUOBy"
      },
      "source": [
        "Помимо требуемой метрики посмотрим еще precision, recall, f1-score, accuracy"
      ],
      "id": "kYpjEqXzUOBy"
    },
    {
      "cell_type": "code",
      "execution_count": null,
      "metadata": {
        "id": "1gCfImOZUOBz",
        "outputId": "0b732743-0c35-4d86-a447-b7a89e2a2012"
      },
      "outputs": [
        {
          "name": "stdout",
          "output_type": "stream",
          "text": [
            "              precision    recall  f1-score   support\n",
            "\n",
            "           0       0.89      0.95      0.92      1033\n",
            "           1       0.82      0.69      0.75       374\n",
            "\n",
            "    accuracy                           0.88      1407\n",
            "   macro avg       0.86      0.82      0.84      1407\n",
            "weighted avg       0.88      0.88      0.88      1407\n",
            "\n"
          ]
        }
      ],
      "source": [
        "print(classification_report(y_col_test, cb_model.predict(X_col_test)))"
      ],
      "id": "1gCfImOZUOBz"
    },
    {
      "cell_type": "markdown",
      "metadata": {
        "id": "vw-SztKyUOBz"
      },
      "source": [
        "## Вывод"
      ],
      "id": "vw-SztKyUOBz"
    },
    {
      "cell_type": "markdown",
      "metadata": {
        "id": "Pph4a4_-UOB0"
      },
      "source": [
        "Во время выполнения проекта было сделано:\n",
        "- изучены и предобработаны данные, изменены типы признаком, добавлены новые колонки в том числе и с целевым признаком;\n",
        "- исходные таблицы собраны в одну, количественные признаки были проверены на корреляцию;\n",
        "- выбран первый вариант набора необходимых признаков, выборка поделена на 3 - тренировочную, валидационную и тестовую;\n",
        "- количественные признаки отмасштабированы, также была попытка сбалансировать классы;\n",
        "- обучена модель на первом варианте набора признаков, замерена метрика roc-auc;\n",
        "- выбраны топ-5 важных признаков для катбуста, новая модель обучена только на них, также замерена метрика;\n",
        "- тренировочная и валидационная выборки объединены, модель обучена на новой выборке;\n",
        "- тестирование модели на тестовой выборке.\n",
        "\n",
        "Выводы, которые можно сделать по результатам работы:\n",
        "- наиболее значимым фактором, который определяет уйдет-ли клиент, является время в течение которого клиент пользуется услугами компании, чем оно больше - тем меньше вероятность того, что он уйдет меньше;\n",
        "- балансировка классов только ухудшала необходимую метрику;\n",
        "- построена модель, которая может пробить необходимый безлайн. За счет уменьшения передаваемых признаков, модель стала работать быстрее, чем первый ее вариант;\n",
        "- из classification_report видно, что модель хорошо определяет тех, кто не собирается уходить. С уходящими модель справляется хуже - 18% клиентов, которых модель отметила, как уходящих, уходить не собираются, а также она не находит 31% уходящих клиентов;\n",
        "- нам необходимы еще данные уходящих клиентов, тогда, возможно, показатели модели улучшатся;\n",
        "- roc-auc не является достаточно информативной метрикой для данной задачи."
      ],
      "id": "Pph4a4_-UOB0"
    },
    {
      "cell_type": "code",
      "execution_count": null,
      "metadata": {
        "id": "tNbscd3wUOB0"
      },
      "outputs": [],
      "source": [
        ""
      ],
      "id": "tNbscd3wUOB0"
    }
  ],
  "metadata": {
    "ExecuteTimeLog": [
      {
        "duration": 439,
        "start_time": "2021-10-26T22:29:00.947Z"
      },
      {
        "duration": 1531,
        "start_time": "2021-10-26T22:29:04.510Z"
      },
      {
        "duration": 103,
        "start_time": "2021-10-26T22:29:09.127Z"
      },
      {
        "duration": 24,
        "start_time": "2021-10-26T22:29:12.582Z"
      },
      {
        "duration": 20,
        "start_time": "2021-10-26T22:29:12.935Z"
      },
      {
        "duration": 16,
        "start_time": "2021-10-26T22:29:13.100Z"
      },
      {
        "duration": 9,
        "start_time": "2021-10-26T22:29:13.656Z"
      },
      {
        "duration": 14,
        "start_time": "2021-10-26T22:29:13.855Z"
      },
      {
        "duration": 10,
        "start_time": "2021-10-26T22:29:14.109Z"
      },
      {
        "duration": 12,
        "start_time": "2021-10-26T22:29:14.371Z"
      },
      {
        "duration": 10,
        "start_time": "2021-10-26T22:29:14.680Z"
      },
      {
        "duration": 10,
        "start_time": "2021-10-26T22:29:14.869Z"
      },
      {
        "duration": 9,
        "start_time": "2021-10-26T22:29:15.279Z"
      },
      {
        "duration": 8,
        "start_time": "2021-10-26T22:29:15.487Z"
      },
      {
        "duration": 8,
        "start_time": "2021-10-26T22:29:15.874Z"
      },
      {
        "duration": 134,
        "start_time": "2021-10-26T22:29:57.189Z"
      },
      {
        "duration": 8,
        "start_time": "2021-10-26T22:29:58.992Z"
      },
      {
        "duration": 9,
        "start_time": "2021-10-26T22:29:59.221Z"
      },
      {
        "duration": 14,
        "start_time": "2021-10-26T22:30:01.651Z"
      },
      {
        "duration": 6,
        "start_time": "2021-10-26T22:30:02.180Z"
      },
      {
        "duration": 8,
        "start_time": "2021-10-26T22:30:02.356Z"
      },
      {
        "duration": 6,
        "start_time": "2021-10-26T22:30:03.115Z"
      },
      {
        "duration": 8,
        "start_time": "2021-10-26T22:30:03.597Z"
      },
      {
        "duration": 19,
        "start_time": "2021-10-26T22:32:24.123Z"
      },
      {
        "duration": 20,
        "start_time": "2021-10-26T22:32:25.136Z"
      },
      {
        "duration": 18,
        "start_time": "2021-10-26T22:32:25.341Z"
      },
      {
        "duration": 20,
        "start_time": "2021-10-26T22:32:29.108Z"
      },
      {
        "duration": 16,
        "start_time": "2021-10-26T22:32:52.997Z"
      },
      {
        "duration": 7,
        "start_time": "2021-10-26T22:33:46.635Z"
      },
      {
        "duration": 14,
        "start_time": "2021-10-26T22:33:46.919Z"
      },
      {
        "duration": 13,
        "start_time": "2021-10-26T22:33:47.108Z"
      },
      {
        "duration": 5,
        "start_time": "2021-10-26T22:33:47.308Z"
      },
      {
        "duration": 9,
        "start_time": "2021-10-26T22:33:47.895Z"
      },
      {
        "duration": 3,
        "start_time": "2021-10-26T22:33:49.834Z"
      },
      {
        "duration": 3,
        "start_time": "2021-10-26T22:33:50.151Z"
      },
      {
        "duration": 3,
        "start_time": "2021-10-26T22:33:51.678Z"
      },
      {
        "duration": 14,
        "start_time": "2021-10-26T22:33:51.885Z"
      },
      {
        "duration": 14,
        "start_time": "2021-10-26T22:33:52.519Z"
      },
      {
        "duration": 13,
        "start_time": "2021-10-26T22:33:53.404Z"
      },
      {
        "duration": 11,
        "start_time": "2021-10-26T22:33:53.628Z"
      },
      {
        "duration": 4,
        "start_time": "2021-10-26T22:36:11.618Z"
      },
      {
        "duration": 4,
        "start_time": "2021-10-26T22:36:12.261Z"
      },
      {
        "duration": 4,
        "start_time": "2021-10-26T22:36:12.824Z"
      },
      {
        "duration": 734090,
        "start_time": "2021-10-26T22:36:13.038Z"
      },
      {
        "duration": 5,
        "start_time": "2021-10-26T22:48:27.131Z"
      },
      {
        "duration": 19,
        "start_time": "2021-10-26T22:48:27.139Z"
      },
      {
        "duration": 40,
        "start_time": "2021-10-26T22:48:27.162Z"
      },
      {
        "duration": 6,
        "start_time": "2021-10-26T22:48:27.205Z"
      },
      {
        "duration": 648,
        "start_time": "2021-10-26T22:56:59.096Z"
      }
    ],
    "kernelspec": {
      "display_name": "Python 3",
      "language": "python",
      "name": "python3"
    },
    "language_info": {
      "codemirror_mode": {
        "name": "ipython",
        "version": 3
      },
      "file_extension": ".py",
      "mimetype": "text/x-python",
      "name": "python",
      "nbconvert_exporter": "python",
      "pygments_lexer": "ipython3",
      "version": "3.7.8"
    },
    "toc": {
      "base_numbering": 1,
      "nav_menu": {},
      "number_sections": true,
      "sideBar": true,
      "skip_h1_title": true,
      "title_cell": "Table of Contents",
      "title_sidebar": "Contents",
      "toc_cell": false,
      "toc_position": {},
      "toc_section_display": true,
      "toc_window_display": false
    },
    "colab": {
      "name": "customer_churn_telecom.ipynb",
      "provenance": [],
      "collapsed_sections": []
    }
  },
  "nbformat": 4,
  "nbformat_minor": 5
}